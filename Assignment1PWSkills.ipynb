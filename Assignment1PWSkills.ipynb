{
 "cells": [
  {
   "cell_type": "markdown",
   "id": "901e1245-1c60-4037-bf2d-5ae07de659b8",
   "metadata": {},
   "source": [
    "Que 1 Answer : Guido van Rossum developed Python programming language."
   ]
  },
  {
   "cell_type": "markdown",
   "id": "da837905-14de-40cb-b5b0-d99e326ffb22",
   "metadata": {},
   "source": [
    "Que 2 Answer : Python supports object - oriented programming and structured programming."
   ]
  },
  {
   "cell_type": "markdown",
   "id": "c958412f-ddb8-40ec-a4a7-679373d195e4",
   "metadata": {},
   "source": [
    "Que 3 Answer : Yes Python is a case-sensitive language while dealing with Identifiers."
   ]
  },
  {
   "cell_type": "markdown",
   "id": "2979d560-ffda-485e-b943-cf5aba85dd05",
   "metadata": {},
   "source": [
    "Que 4 Answer : .py is the correct extension of the python file."
   ]
  },
  {
   "cell_type": "markdown",
   "id": "9db6bb73-2a28-40e4-9c32-39d0f1863c42",
   "metadata": {},
   "source": [
    "Que 5 Answer : Python is an interpreted language."
   ]
  },
  {
   "cell_type": "markdown",
   "id": "39bc9c77-15aa-4ed3-b0e3-c12fca9e0f75",
   "metadata": {},
   "source": [
    "Que 6 Answer : A module, a function body, and a class defination are the blocks of code used to define in python language."
   ]
  },
  {
   "cell_type": "markdown",
   "id": "94b0ec00-2828-42eb-9455-1424f23b38f6",
   "metadata": {},
   "source": [
    "Que 7 Answer : # character used for single line comment in python."
   ]
  },
  {
   "cell_type": "markdown",
   "id": "3b44e245-9af9-4956-94be-811b3e166020",
   "metadata": {},
   "source": [
    "Que 8 Answer : sys.version, sys.version_info, platform.python_version() functions can help us to find the version of python that we are currently working on."
   ]
  },
  {
   "cell_type": "markdown",
   "id": "516755ec-e52e-4272-8709-9e94c2fa2d9d",
   "metadata": {},
   "source": [
    "Que 9 Answer : python supports the creation of anonymous functions at runtime using a construct called lambda."
   ]
  },
  {
   "cell_type": "markdown",
   "id": "d740d90e-6fac-4cbe-bcc5-fd077aaa8774",
   "metadata": {},
   "source": [
    "Que 10 Answer : pip stand for python is preferred installer program."
   ]
  },
  {
   "cell_type": "markdown",
   "id": "f8a82ca6-b31c-44c1-9f70-703b96495081",
   "metadata": {},
   "source": [
    "Que 11 Answer : Python dict() to Create a Python Dictionary, Python float() to Return a floating-point number from a number or a string, Python compile to compile() the source into a code or AST object."
   ]
  },
  {
   "cell_type": "markdown",
   "id": "fa803f4c-b9ce-405e-b011-0ed624bdc9de",
   "metadata": {},
   "source": [
    "Que 12 Answer: An identifier can have a maximum length of 79 characters in Python."
   ]
  },
  {
   "cell_type": "markdown",
   "id": "e039ffc6-5089-4fec-aa98-f42551669195",
   "metadata": {},
   "source": [
    "Que 13 Answer: Easy to learn and read,Versatile,Large and active community,Plenty of libraries and modules,Cross-platform compatibility."
   ]
  },
  {
   "cell_type": "markdown",
   "id": "67898908-beae-4295-af48-65332267ac98",
   "metadata": {},
   "source": [
    "Que 14 Answer: In Python, memory management is handled by the Python interpreter itself. The Python memory manager is responsible for allocating and deallocating memory dynamically as objects are created and destroyed."
   ]
  },
  {
   "cell_type": "markdown",
   "id": "9c22870c-c26e-497a-9e46-dd2fad6789b1",
   "metadata": {},
   "source": [
    "Que 15 Answer: To install Python on Windows, follow these steps:\n",
    "\n",
    "Go to the official Python website (https://www.python.org/) and download the latest version of Python for Windows.\n",
    "\n",
    "Double-click on the downloaded installer and follow the on-screen instructions to install Python on your system.\n",
    "\n",
    "During the installation process, make sure to select the option to add Python to your system PATH, which will allow you to run Python from the command line.\n",
    "\n",
    "After installation, you can set an environment variable in Windows as follows:\n",
    "\n",
    "Right-click on the Start button and select System.\n",
    "\n",
    "Click on Advanced system settings.\n",
    "\n",
    "In the System Properties window, click on the Advanced tab and then click on the Environment Variables button.\n",
    "\n",
    "In the Environment Variables window, under the System Variables section, click on the New button.\n",
    "\n",
    "In the New System Variable window, enter the name of the variable and its value, then click OK.\n",
    "\n",
    "Close all windows and restart your system for the changes to take effect."
   ]
  },
  {
   "cell_type": "markdown",
   "id": "c90ea1c3-fc18-4f2d-86f9-e79b7086d66e",
   "metadata": {},
   "source": [
    "Que 16 Answer: Yes, indentation is required in Python and is used to define blocks of code."
   ]
  }
 ],
 "metadata": {
  "kernelspec": {
   "display_name": "Python 3 (ipykernel)",
   "language": "python",
   "name": "python3"
  },
  "language_info": {
   "codemirror_mode": {
    "name": "ipython",
    "version": 3
   },
   "file_extension": ".py",
   "mimetype": "text/x-python",
   "name": "python",
   "nbconvert_exporter": "python",
   "pygments_lexer": "ipython3",
   "version": "3.10.8"
  }
 },
 "nbformat": 4,
 "nbformat_minor": 5
}
